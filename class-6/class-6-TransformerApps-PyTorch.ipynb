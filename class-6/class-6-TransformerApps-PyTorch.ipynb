{
 "cells": [
  {
   "cell_type": "markdown",
   "metadata": {
    "colab_type": "text",
    "id": "view-in-github"
   },
   "source": [
    "<a href=\"https://colab.research.google.com/github/vijaygwu/SEAS8525/blob/main/Class_6_TransformerApps_PyTorch.ipynb\" target=\"_parent\"><img src=\"https://colab.research.google.com/assets/colab-badge.svg\" alt=\"Open In Colab\"/></a>"
   ]
  },
  {
   "cell_type": "code",
   "execution_count": null,
   "metadata": {
    "id": "945Bs3_mydCS"
   },
   "outputs": [],
   "source": []
  },
  {
   "cell_type": "markdown",
   "metadata": {
    "id": "XiWaLJ1TzQte"
   },
   "source": []
  },
  {
   "cell_type": "code",
   "execution_count": null,
   "metadata": {
    "id": "wZwEeWRrzREp"
   },
   "outputs": [],
   "source": [
    "text = \"\"\"Dear Amazon, last week I ordered an Optimus Prime action figure\n",
    "from your online store in Germany. Unfortunately, when I opened the package,\n",
    "I discovered to my horror that I had been sent an action figure of Megatron\n",
    "instead! As a lifelong enemy of the Decepticons, I hope you can understand my\n",
    "dilemma. To resolve the issue, I demand an exchange of Megatron for the\n",
    "Optimus Prime figure I ordered. Enclosed are copies of my records concerning\n",
    "this purchase. I expect to hear from you soon. Sincerely, Bumblebee.\"\"\"\n"
   ]
  },
  {
   "cell_type": "markdown",
   "metadata": {
    "id": "1hD5AALqzhNF"
   },
   "source": [
    "**Text Classification**"
   ]
  },
  {
   "cell_type": "code",
   "execution_count": null,
   "metadata": {
    "colab": {
     "base_uri": "https://localhost:8080/",
     "height": 304,
     "referenced_widgets": [
      "1d08fc7120cb4cf6aa12395fa7a6660c",
      "ef50858491ec47559066f0743ae927f0",
      "7171fae63e41482d9923d7d7a6998aa0",
      "fe43571ed2df4159a8f9f7c8658375f8",
      "93e422761ea6437596de8fafd046b7de",
      "18b9d59e50c8437ea818499d06ff101e",
      "e27a9028f60e48bd913e0b4e0722da38",
      "049743737e1a4817ba9d643b4033e5aa",
      "7340fb5c32ae4075906854c8108de3ca",
      "36ac267612ce4207867cc78853ba7779",
      "855a15453bf24f10b0f68612697c4aea",
      "f12e0575efd4457685477aa9efcd50d5",
      "fc02e126373b4da291acca4928e601ec",
      "e1befd81349d4acfa7bf43467acf2cf0",
      "4cf650fe214a4ee99397cecd61fe88b5",
      "97cf22cc72f24d48857442744196e43e",
      "5f0c96ee79484302b17bbdbc11a333df",
      "4f0ca6a64612439aa0eb4c5a98c41d2e",
      "f30c46992f6f47e1b22e4b546722f87d",
      "35834bb584de41c8b0662d16bd4b180f",
      "e7c777bed8c5466e91ab6320cb8fbc89",
      "663a98efa48a44f480077c3d2fc19028",
      "053fffabb687419b9d80e0c05a3bf98b",
      "d52e2408775f4097a90e3063dacaeb51",
      "afa957cc8e6c4915a733b984adb39b23",
      "ced77ab9bb6f45f78a1127726c0cfec9",
      "c280231c4f224295a8a65357d7a0f7ba",
      "21c33b42173f4df68b78c05bd911e7fb",
      "971f3e1335b946abbaba4c67d194cfae",
      "934a0971b1c34ad1ab324d5c7d2c0d90",
      "8419a08e13cf4e23b93e55de476ae496",
      "58dbf9da18ea40ef8f8198e2202e6380",
      "c6baaa66bd9942aa968f5e593a0e2ed0",
      "5bedd02d14a84dbe8646d3ace7b88bce",
      "3ed273a58f5248e586e38002280f128a",
      "db499d0adb6a4b1792971cecec5593a8",
      "082635c81b854092843536057e67411e",
      "479376fc7c5c415ea68faf263ccac736",
      "9e1fde2bcc2d41ac98260cf91544111c",
      "69e3b2d25ee44ee38006700673c2567b",
      "4456f2824eb94be49ad7b1f95e914f24",
      "79f6d545af2e43ec8b1bd9ec03e974a5",
      "db5643ab1bdf491b9f4281b0e1eba6f8",
      "33e6c04f566a44d7a59c1577764e1034"
     ]
    },
    "id": "mHBgjBhxzTEk",
    "outputId": "9fcf7317-5479-43f3-9f9e-debc3f4f5462"
   },
   "outputs": [
    {
     "name": "stderr",
     "output_type": "stream",
     "text": [
      "No model was supplied, defaulted to distilbert-base-uncased-finetuned-sst-2-english and revision af0f99b (https://huggingface.co/distilbert-base-uncased-finetuned-sst-2-english).\n",
      "Using a pipeline without specifying a model name and revision in production is not recommended.\n",
      "/usr/local/lib/python3.10/dist-packages/huggingface_hub/utils/_token.py:88: UserWarning: \n",
      "The secret `HF_TOKEN` does not exist in your Colab secrets.\n",
      "To authenticate with the Hugging Face Hub, create a token in your settings tab (https://huggingface.co/settings/tokens), set it as secret in your Google Colab and restart your session.\n",
      "You will be able to reuse this secret in all of your notebooks.\n",
      "Please note that authentication is recommended but still optional to access public models or datasets.\n",
      "  warnings.warn(\n"
     ]
    },
    {
     "data": {
      "application/vnd.jupyter.widget-view+json": {
       "model_id": "1d08fc7120cb4cf6aa12395fa7a6660c",
       "version_major": 2,
       "version_minor": 0
      },
      "text/plain": [
       "config.json:   0%|          | 0.00/629 [00:00<?, ?B/s]"
      ]
     },
     "metadata": {},
     "output_type": "display_data"
    },
    {
     "data": {
      "application/vnd.jupyter.widget-view+json": {
       "model_id": "f12e0575efd4457685477aa9efcd50d5",
       "version_major": 2,
       "version_minor": 0
      },
      "text/plain": [
       "model.safetensors:   0%|          | 0.00/268M [00:00<?, ?B/s]"
      ]
     },
     "metadata": {},
     "output_type": "display_data"
    },
    {
     "data": {
      "application/vnd.jupyter.widget-view+json": {
       "model_id": "053fffabb687419b9d80e0c05a3bf98b",
       "version_major": 2,
       "version_minor": 0
      },
      "text/plain": [
       "tokenizer_config.json:   0%|          | 0.00/48.0 [00:00<?, ?B/s]"
      ]
     },
     "metadata": {},
     "output_type": "display_data"
    },
    {
     "data": {
      "application/vnd.jupyter.widget-view+json": {
       "model_id": "5bedd02d14a84dbe8646d3ace7b88bce",
       "version_major": 2,
       "version_minor": 0
      },
      "text/plain": [
       "vocab.txt:   0%|          | 0.00/232k [00:00<?, ?B/s]"
      ]
     },
     "metadata": {},
     "output_type": "display_data"
    }
   ],
   "source": [
    "from transformers import pipeline\n",
    "\n",
    "classifier = pipeline(\"text-classification\")"
   ]
  },
  {
   "cell_type": "code",
   "execution_count": null,
   "metadata": {
    "colab": {
     "base_uri": "https://localhost:8080/",
     "height": 81
    },
    "id": "OVSllXrQzXAj",
    "outputId": "4c44c0ae-84be-4f44-aae9-2dda28e3ea11"
   },
   "outputs": [
    {
     "data": {
      "text/html": [
       "\n",
       "  <div id=\"df-601aca02-d0e5-4b97-b05c-0d80faeae4b2\" class=\"colab-df-container\">\n",
       "    <div>\n",
       "<style scoped>\n",
       "    .dataframe tbody tr th:only-of-type {\n",
       "        vertical-align: middle;\n",
       "    }\n",
       "\n",
       "    .dataframe tbody tr th {\n",
       "        vertical-align: top;\n",
       "    }\n",
       "\n",
       "    .dataframe thead th {\n",
       "        text-align: right;\n",
       "    }\n",
       "</style>\n",
       "<table border=\"1\" class=\"dataframe\">\n",
       "  <thead>\n",
       "    <tr style=\"text-align: right;\">\n",
       "      <th></th>\n",
       "      <th>label</th>\n",
       "      <th>score</th>\n",
       "    </tr>\n",
       "  </thead>\n",
       "  <tbody>\n",
       "    <tr>\n",
       "      <th>0</th>\n",
       "      <td>NEGATIVE</td>\n",
       "      <td>0.901544</td>\n",
       "    </tr>\n",
       "  </tbody>\n",
       "</table>\n",
       "</div>\n",
       "    <div class=\"colab-df-buttons\">\n",
       "\n",
       "  <div class=\"colab-df-container\">\n",
       "    <button class=\"colab-df-convert\" onclick=\"convertToInteractive('df-601aca02-d0e5-4b97-b05c-0d80faeae4b2')\"\n",
       "            title=\"Convert this dataframe to an interactive table.\"\n",
       "            style=\"display:none;\">\n",
       "\n",
       "  <svg xmlns=\"http://www.w3.org/2000/svg\" height=\"24px\" viewBox=\"0 -960 960 960\">\n",
       "    <path d=\"M120-120v-720h720v720H120Zm60-500h600v-160H180v160Zm220 220h160v-160H400v160Zm0 220h160v-160H400v160ZM180-400h160v-160H180v160Zm440 0h160v-160H620v160ZM180-180h160v-160H180v160Zm440 0h160v-160H620v160Z\"/>\n",
       "  </svg>\n",
       "    </button>\n",
       "\n",
       "  <style>\n",
       "    .colab-df-container {\n",
       "      display:flex;\n",
       "      gap: 12px;\n",
       "    }\n",
       "\n",
       "    .colab-df-convert {\n",
       "      background-color: #E8F0FE;\n",
       "      border: none;\n",
       "      border-radius: 50%;\n",
       "      cursor: pointer;\n",
       "      display: none;\n",
       "      fill: #1967D2;\n",
       "      height: 32px;\n",
       "      padding: 0 0 0 0;\n",
       "      width: 32px;\n",
       "    }\n",
       "\n",
       "    .colab-df-convert:hover {\n",
       "      background-color: #E2EBFA;\n",
       "      box-shadow: 0px 1px 2px rgba(60, 64, 67, 0.3), 0px 1px 3px 1px rgba(60, 64, 67, 0.15);\n",
       "      fill: #174EA6;\n",
       "    }\n",
       "\n",
       "    .colab-df-buttons div {\n",
       "      margin-bottom: 4px;\n",
       "    }\n",
       "\n",
       "    [theme=dark] .colab-df-convert {\n",
       "      background-color: #3B4455;\n",
       "      fill: #D2E3FC;\n",
       "    }\n",
       "\n",
       "    [theme=dark] .colab-df-convert:hover {\n",
       "      background-color: #434B5C;\n",
       "      box-shadow: 0px 1px 3px 1px rgba(0, 0, 0, 0.15);\n",
       "      filter: drop-shadow(0px 1px 2px rgba(0, 0, 0, 0.3));\n",
       "      fill: #FFFFFF;\n",
       "    }\n",
       "  </style>\n",
       "\n",
       "    <script>\n",
       "      const buttonEl =\n",
       "        document.querySelector('#df-601aca02-d0e5-4b97-b05c-0d80faeae4b2 button.colab-df-convert');\n",
       "      buttonEl.style.display =\n",
       "        google.colab.kernel.accessAllowed ? 'block' : 'none';\n",
       "\n",
       "      async function convertToInteractive(key) {\n",
       "        const element = document.querySelector('#df-601aca02-d0e5-4b97-b05c-0d80faeae4b2');\n",
       "        const dataTable =\n",
       "          await google.colab.kernel.invokeFunction('convertToInteractive',\n",
       "                                                    [key], {});\n",
       "        if (!dataTable) return;\n",
       "\n",
       "        const docLinkHtml = 'Like what you see? Visit the ' +\n",
       "          '<a target=\"_blank\" href=https://colab.research.google.com/notebooks/data_table.ipynb>data table notebook</a>'\n",
       "          + ' to learn more about interactive tables.';\n",
       "        element.innerHTML = '';\n",
       "        dataTable['output_type'] = 'display_data';\n",
       "        await google.colab.output.renderOutput(dataTable, element);\n",
       "        const docLink = document.createElement('div');\n",
       "        docLink.innerHTML = docLinkHtml;\n",
       "        element.appendChild(docLink);\n",
       "      }\n",
       "    </script>\n",
       "  </div>\n",
       "\n",
       "\n",
       "    </div>\n",
       "  </div>\n"
      ],
      "text/plain": [
       "      label     score\n",
       "0  NEGATIVE  0.901544"
      ]
     },
     "execution_count": 3,
     "metadata": {},
     "output_type": "execute_result"
    }
   ],
   "source": [
    "import pandas as pd\n",
    "\n",
    "outputs = classifier(text)\n",
    "pd.DataFrame(outputs)"
   ]
  },
  {
   "cell_type": "markdown",
   "metadata": {
    "id": "EoOU9SnozwdB"
   },
   "source": [
    "**Named Entity Recognition**"
   ]
  },
  {
   "cell_type": "code",
   "execution_count": null,
   "metadata": {
    "colab": {
     "base_uri": "https://localhost:8080/",
     "height": 598,
     "referenced_widgets": [
      "f9546bf1365f447f97b504b4b5ac431f",
      "7344e35c4db54bc0a399c5dc5e90c943",
      "545548fbc24041dfb237c4d4076dc30e",
      "1d61b284e13642289790f9450751bf4e",
      "667f6551a7f649cc9770f1daec49ad66",
      "ae3b41e7522d44178dfc950d940dacf7",
      "860754f24a914195b6d2f251213b61a0",
      "cf82a8d00f464a2daac877abf8aa2374",
      "d25fd89fd52b487d9e72671984eb45c3",
      "a69d7dfcb1c04d958a4898c670545a29",
      "27d22215771244e0be4f33c94ecf390e",
      "8fa89d20ac4345a7b565acf572cc02a7",
      "20134ca92e3e432a96afb5aca8662ba1",
      "47000b5448c845aca04de323ede756ec",
      "14f0ac9ec614473d8922089d9379d2e4",
      "3736beb3c2d9460886653fa9c62797eb",
      "65d3346f3b7345d1a8ca9d8c1e0bd55c",
      "a0f7603ac8094d1396fe0b1d12bd361e",
      "9f63b240cd63489a8b92b1415dbaf081",
      "558c6a25c0614515a01e4d29916819e4",
      "4abb363c80b445e983d8c6b8d8c05447",
      "d9703926f6864ac5b347ccad32580db5",
      "acedd8172bba444a81b3632543b2b658",
      "237b00f0ce334db09413d0983f4a35fb",
      "350ffb59a8684a039023e8958060e081",
      "593ee467633e467786812109e02e4b45",
      "d305fa55818e4a0cad11926ec77965dd",
      "5cf1815860fe4621a8c68e0aafb36f8f",
      "17f0f74cd7444ccbb5bd75cc98cd90f7",
      "5ed1f3bd9f9640c080e45ebbb7954f7d",
      "3f0ef2c1835a460ba4078afc00087bdb",
      "fbc73b18dfee46258abdf9c35280f13e",
      "58a9ce040c7d4697aa6af12a8042c236",
      "d17472e2a69f443998cf126cc847f8fd",
      "635533e9cd7a4f4c9571b8d7107d291b",
      "a14f9e30ee1448678a8111eb2da5b1f1",
      "432a779a28264c5b9f3bef2db2ca5ddf",
      "e4f67109b9b24050800f5b91c25a3d71",
      "b242815ea344490dbd3590ac5f1c6a38",
      "5618628fb870429d9a73db92ba1e7b9a",
      "825a6014796b4443a500ef97c6769ad3",
      "9e6e7e9892404d5095c7b7c832c9684c",
      "cfefdf9f7c9446bc95cf2da51bd05127",
      "b9d7105e49b843a4a6378944fd9af3bc"
     ]
    },
    "id": "wtfHSH8rzywZ",
    "outputId": "23bd0278-8607-41e7-a79f-9c6bfc26f7c1"
   },
   "outputs": [
    {
     "name": "stderr",
     "output_type": "stream",
     "text": [
      "No model was supplied, defaulted to dbmdz/bert-large-cased-finetuned-conll03-english and revision f2482bf (https://huggingface.co/dbmdz/bert-large-cased-finetuned-conll03-english).\n",
      "Using a pipeline without specifying a model name and revision in production is not recommended.\n"
     ]
    },
    {
     "data": {
      "application/vnd.jupyter.widget-view+json": {
       "model_id": "f9546bf1365f447f97b504b4b5ac431f",
       "version_major": 2,
       "version_minor": 0
      },
      "text/plain": [
       "config.json:   0%|          | 0.00/998 [00:00<?, ?B/s]"
      ]
     },
     "metadata": {},
     "output_type": "display_data"
    },
    {
     "data": {
      "application/vnd.jupyter.widget-view+json": {
       "model_id": "8fa89d20ac4345a7b565acf572cc02a7",
       "version_major": 2,
       "version_minor": 0
      },
      "text/plain": [
       "model.safetensors:   0%|          | 0.00/1.33G [00:00<?, ?B/s]"
      ]
     },
     "metadata": {},
     "output_type": "display_data"
    },
    {
     "name": "stderr",
     "output_type": "stream",
     "text": [
      "Some weights of the model checkpoint at dbmdz/bert-large-cased-finetuned-conll03-english were not used when initializing BertForTokenClassification: ['bert.pooler.dense.bias', 'bert.pooler.dense.weight']\n",
      "- This IS expected if you are initializing BertForTokenClassification from the checkpoint of a model trained on another task or with another architecture (e.g. initializing a BertForSequenceClassification model from a BertForPreTraining model).\n",
      "- This IS NOT expected if you are initializing BertForTokenClassification from the checkpoint of a model that you expect to be exactly identical (initializing a BertForSequenceClassification model from a BertForSequenceClassification model).\n"
     ]
    },
    {
     "data": {
      "application/vnd.jupyter.widget-view+json": {
       "model_id": "acedd8172bba444a81b3632543b2b658",
       "version_major": 2,
       "version_minor": 0
      },
      "text/plain": [
       "tokenizer_config.json:   0%|          | 0.00/60.0 [00:00<?, ?B/s]"
      ]
     },
     "metadata": {},
     "output_type": "display_data"
    },
    {
     "data": {
      "application/vnd.jupyter.widget-view+json": {
       "model_id": "d17472e2a69f443998cf126cc847f8fd",
       "version_major": 2,
       "version_minor": 0
      },
      "text/plain": [
       "vocab.txt:   0%|          | 0.00/213k [00:00<?, ?B/s]"
      ]
     },
     "metadata": {},
     "output_type": "display_data"
    },
    {
     "data": {
      "text/html": [
       "\n",
       "  <div id=\"df-0ea70c6d-f75a-49c1-87a9-933dd241a739\" class=\"colab-df-container\">\n",
       "    <div>\n",
       "<style scoped>\n",
       "    .dataframe tbody tr th:only-of-type {\n",
       "        vertical-align: middle;\n",
       "    }\n",
       "\n",
       "    .dataframe tbody tr th {\n",
       "        vertical-align: top;\n",
       "    }\n",
       "\n",
       "    .dataframe thead th {\n",
       "        text-align: right;\n",
       "    }\n",
       "</style>\n",
       "<table border=\"1\" class=\"dataframe\">\n",
       "  <thead>\n",
       "    <tr style=\"text-align: right;\">\n",
       "      <th></th>\n",
       "      <th>entity_group</th>\n",
       "      <th>score</th>\n",
       "      <th>word</th>\n",
       "      <th>start</th>\n",
       "      <th>end</th>\n",
       "    </tr>\n",
       "  </thead>\n",
       "  <tbody>\n",
       "    <tr>\n",
       "      <th>0</th>\n",
       "      <td>ORG</td>\n",
       "      <td>0.879010</td>\n",
       "      <td>Amazon</td>\n",
       "      <td>5</td>\n",
       "      <td>11</td>\n",
       "    </tr>\n",
       "    <tr>\n",
       "      <th>1</th>\n",
       "      <td>MISC</td>\n",
       "      <td>0.990859</td>\n",
       "      <td>Optimus Prime</td>\n",
       "      <td>36</td>\n",
       "      <td>49</td>\n",
       "    </tr>\n",
       "    <tr>\n",
       "      <th>2</th>\n",
       "      <td>LOC</td>\n",
       "      <td>0.999755</td>\n",
       "      <td>Germany</td>\n",
       "      <td>90</td>\n",
       "      <td>97</td>\n",
       "    </tr>\n",
       "    <tr>\n",
       "      <th>3</th>\n",
       "      <td>MISC</td>\n",
       "      <td>0.556568</td>\n",
       "      <td>Mega</td>\n",
       "      <td>208</td>\n",
       "      <td>212</td>\n",
       "    </tr>\n",
       "    <tr>\n",
       "      <th>4</th>\n",
       "      <td>PER</td>\n",
       "      <td>0.590257</td>\n",
       "      <td>##tron</td>\n",
       "      <td>212</td>\n",
       "      <td>216</td>\n",
       "    </tr>\n",
       "    <tr>\n",
       "      <th>5</th>\n",
       "      <td>ORG</td>\n",
       "      <td>0.669692</td>\n",
       "      <td>Decept</td>\n",
       "      <td>253</td>\n",
       "      <td>259</td>\n",
       "    </tr>\n",
       "    <tr>\n",
       "      <th>6</th>\n",
       "      <td>MISC</td>\n",
       "      <td>0.498350</td>\n",
       "      <td>##icons</td>\n",
       "      <td>259</td>\n",
       "      <td>264</td>\n",
       "    </tr>\n",
       "    <tr>\n",
       "      <th>7</th>\n",
       "      <td>MISC</td>\n",
       "      <td>0.775361</td>\n",
       "      <td>Megatron</td>\n",
       "      <td>350</td>\n",
       "      <td>358</td>\n",
       "    </tr>\n",
       "    <tr>\n",
       "      <th>8</th>\n",
       "      <td>MISC</td>\n",
       "      <td>0.987854</td>\n",
       "      <td>Optimus Prime</td>\n",
       "      <td>367</td>\n",
       "      <td>380</td>\n",
       "    </tr>\n",
       "    <tr>\n",
       "      <th>9</th>\n",
       "      <td>PER</td>\n",
       "      <td>0.812096</td>\n",
       "      <td>Bumblebee</td>\n",
       "      <td>502</td>\n",
       "      <td>511</td>\n",
       "    </tr>\n",
       "  </tbody>\n",
       "</table>\n",
       "</div>\n",
       "    <div class=\"colab-df-buttons\">\n",
       "\n",
       "  <div class=\"colab-df-container\">\n",
       "    <button class=\"colab-df-convert\" onclick=\"convertToInteractive('df-0ea70c6d-f75a-49c1-87a9-933dd241a739')\"\n",
       "            title=\"Convert this dataframe to an interactive table.\"\n",
       "            style=\"display:none;\">\n",
       "\n",
       "  <svg xmlns=\"http://www.w3.org/2000/svg\" height=\"24px\" viewBox=\"0 -960 960 960\">\n",
       "    <path d=\"M120-120v-720h720v720H120Zm60-500h600v-160H180v160Zm220 220h160v-160H400v160Zm0 220h160v-160H400v160ZM180-400h160v-160H180v160Zm440 0h160v-160H620v160ZM180-180h160v-160H180v160Zm440 0h160v-160H620v160Z\"/>\n",
       "  </svg>\n",
       "    </button>\n",
       "\n",
       "  <style>\n",
       "    .colab-df-container {\n",
       "      display:flex;\n",
       "      gap: 12px;\n",
       "    }\n",
       "\n",
       "    .colab-df-convert {\n",
       "      background-color: #E8F0FE;\n",
       "      border: none;\n",
       "      border-radius: 50%;\n",
       "      cursor: pointer;\n",
       "      display: none;\n",
       "      fill: #1967D2;\n",
       "      height: 32px;\n",
       "      padding: 0 0 0 0;\n",
       "      width: 32px;\n",
       "    }\n",
       "\n",
       "    .colab-df-convert:hover {\n",
       "      background-color: #E2EBFA;\n",
       "      box-shadow: 0px 1px 2px rgba(60, 64, 67, 0.3), 0px 1px 3px 1px rgba(60, 64, 67, 0.15);\n",
       "      fill: #174EA6;\n",
       "    }\n",
       "\n",
       "    .colab-df-buttons div {\n",
       "      margin-bottom: 4px;\n",
       "    }\n",
       "\n",
       "    [theme=dark] .colab-df-convert {\n",
       "      background-color: #3B4455;\n",
       "      fill: #D2E3FC;\n",
       "    }\n",
       "\n",
       "    [theme=dark] .colab-df-convert:hover {\n",
       "      background-color: #434B5C;\n",
       "      box-shadow: 0px 1px 3px 1px rgba(0, 0, 0, 0.15);\n",
       "      filter: drop-shadow(0px 1px 2px rgba(0, 0, 0, 0.3));\n",
       "      fill: #FFFFFF;\n",
       "    }\n",
       "  </style>\n",
       "\n",
       "    <script>\n",
       "      const buttonEl =\n",
       "        document.querySelector('#df-0ea70c6d-f75a-49c1-87a9-933dd241a739 button.colab-df-convert');\n",
       "      buttonEl.style.display =\n",
       "        google.colab.kernel.accessAllowed ? 'block' : 'none';\n",
       "\n",
       "      async function convertToInteractive(key) {\n",
       "        const element = document.querySelector('#df-0ea70c6d-f75a-49c1-87a9-933dd241a739');\n",
       "        const dataTable =\n",
       "          await google.colab.kernel.invokeFunction('convertToInteractive',\n",
       "                                                    [key], {});\n",
       "        if (!dataTable) return;\n",
       "\n",
       "        const docLinkHtml = 'Like what you see? Visit the ' +\n",
       "          '<a target=\"_blank\" href=https://colab.research.google.com/notebooks/data_table.ipynb>data table notebook</a>'\n",
       "          + ' to learn more about interactive tables.';\n",
       "        element.innerHTML = '';\n",
       "        dataTable['output_type'] = 'display_data';\n",
       "        await google.colab.output.renderOutput(dataTable, element);\n",
       "        const docLink = document.createElement('div');\n",
       "        docLink.innerHTML = docLinkHtml;\n",
       "        element.appendChild(docLink);\n",
       "      }\n",
       "    </script>\n",
       "  </div>\n",
       "\n",
       "\n",
       "<div id=\"df-8b264bcf-1ce4-411d-b68f-1cce515ac6e0\">\n",
       "  <button class=\"colab-df-quickchart\" onclick=\"quickchart('df-8b264bcf-1ce4-411d-b68f-1cce515ac6e0')\"\n",
       "            title=\"Suggest charts\"\n",
       "            style=\"display:none;\">\n",
       "\n",
       "<svg xmlns=\"http://www.w3.org/2000/svg\" height=\"24px\"viewBox=\"0 0 24 24\"\n",
       "     width=\"24px\">\n",
       "    <g>\n",
       "        <path d=\"M19 3H5c-1.1 0-2 .9-2 2v14c0 1.1.9 2 2 2h14c1.1 0 2-.9 2-2V5c0-1.1-.9-2-2-2zM9 17H7v-7h2v7zm4 0h-2V7h2v10zm4 0h-2v-4h2v4z\"/>\n",
       "    </g>\n",
       "</svg>\n",
       "  </button>\n",
       "\n",
       "<style>\n",
       "  .colab-df-quickchart {\n",
       "      --bg-color: #E8F0FE;\n",
       "      --fill-color: #1967D2;\n",
       "      --hover-bg-color: #E2EBFA;\n",
       "      --hover-fill-color: #174EA6;\n",
       "      --disabled-fill-color: #AAA;\n",
       "      --disabled-bg-color: #DDD;\n",
       "  }\n",
       "\n",
       "  [theme=dark] .colab-df-quickchart {\n",
       "      --bg-color: #3B4455;\n",
       "      --fill-color: #D2E3FC;\n",
       "      --hover-bg-color: #434B5C;\n",
       "      --hover-fill-color: #FFFFFF;\n",
       "      --disabled-bg-color: #3B4455;\n",
       "      --disabled-fill-color: #666;\n",
       "  }\n",
       "\n",
       "  .colab-df-quickchart {\n",
       "    background-color: var(--bg-color);\n",
       "    border: none;\n",
       "    border-radius: 50%;\n",
       "    cursor: pointer;\n",
       "    display: none;\n",
       "    fill: var(--fill-color);\n",
       "    height: 32px;\n",
       "    padding: 0;\n",
       "    width: 32px;\n",
       "  }\n",
       "\n",
       "  .colab-df-quickchart:hover {\n",
       "    background-color: var(--hover-bg-color);\n",
       "    box-shadow: 0 1px 2px rgba(60, 64, 67, 0.3), 0 1px 3px 1px rgba(60, 64, 67, 0.15);\n",
       "    fill: var(--button-hover-fill-color);\n",
       "  }\n",
       "\n",
       "  .colab-df-quickchart-complete:disabled,\n",
       "  .colab-df-quickchart-complete:disabled:hover {\n",
       "    background-color: var(--disabled-bg-color);\n",
       "    fill: var(--disabled-fill-color);\n",
       "    box-shadow: none;\n",
       "  }\n",
       "\n",
       "  .colab-df-spinner {\n",
       "    border: 2px solid var(--fill-color);\n",
       "    border-color: transparent;\n",
       "    border-bottom-color: var(--fill-color);\n",
       "    animation:\n",
       "      spin 1s steps(1) infinite;\n",
       "  }\n",
       "\n",
       "  @keyframes spin {\n",
       "    0% {\n",
       "      border-color: transparent;\n",
       "      border-bottom-color: var(--fill-color);\n",
       "      border-left-color: var(--fill-color);\n",
       "    }\n",
       "    20% {\n",
       "      border-color: transparent;\n",
       "      border-left-color: var(--fill-color);\n",
       "      border-top-color: var(--fill-color);\n",
       "    }\n",
       "    30% {\n",
       "      border-color: transparent;\n",
       "      border-left-color: var(--fill-color);\n",
       "      border-top-color: var(--fill-color);\n",
       "      border-right-color: var(--fill-color);\n",
       "    }\n",
       "    40% {\n",
       "      border-color: transparent;\n",
       "      border-right-color: var(--fill-color);\n",
       "      border-top-color: var(--fill-color);\n",
       "    }\n",
       "    60% {\n",
       "      border-color: transparent;\n",
       "      border-right-color: var(--fill-color);\n",
       "    }\n",
       "    80% {\n",
       "      border-color: transparent;\n",
       "      border-right-color: var(--fill-color);\n",
       "      border-bottom-color: var(--fill-color);\n",
       "    }\n",
       "    90% {\n",
       "      border-color: transparent;\n",
       "      border-bottom-color: var(--fill-color);\n",
       "    }\n",
       "  }\n",
       "</style>\n",
       "\n",
       "  <script>\n",
       "    async function quickchart(key) {\n",
       "      const quickchartButtonEl =\n",
       "        document.querySelector('#' + key + ' button');\n",
       "      quickchartButtonEl.disabled = true;  // To prevent multiple clicks.\n",
       "      quickchartButtonEl.classList.add('colab-df-spinner');\n",
       "      try {\n",
       "        const charts = await google.colab.kernel.invokeFunction(\n",
       "            'suggestCharts', [key], {});\n",
       "      } catch (error) {\n",
       "        console.error('Error during call to suggestCharts:', error);\n",
       "      }\n",
       "      quickchartButtonEl.classList.remove('colab-df-spinner');\n",
       "      quickchartButtonEl.classList.add('colab-df-quickchart-complete');\n",
       "    }\n",
       "    (() => {\n",
       "      let quickchartButtonEl =\n",
       "        document.querySelector('#df-8b264bcf-1ce4-411d-b68f-1cce515ac6e0 button');\n",
       "      quickchartButtonEl.style.display =\n",
       "        google.colab.kernel.accessAllowed ? 'block' : 'none';\n",
       "    })();\n",
       "  </script>\n",
       "</div>\n",
       "\n",
       "    </div>\n",
       "  </div>\n"
      ],
      "text/plain": [
       "  entity_group     score           word  start  end\n",
       "0          ORG  0.879010         Amazon      5   11\n",
       "1         MISC  0.990859  Optimus Prime     36   49\n",
       "2          LOC  0.999755        Germany     90   97\n",
       "3         MISC  0.556568           Mega    208  212\n",
       "4          PER  0.590257         ##tron    212  216\n",
       "5          ORG  0.669692         Decept    253  259\n",
       "6         MISC  0.498350        ##icons    259  264\n",
       "7         MISC  0.775361       Megatron    350  358\n",
       "8         MISC  0.987854  Optimus Prime    367  380\n",
       "9          PER  0.812096      Bumblebee    502  511"
      ]
     },
     "execution_count": 4,
     "metadata": {},
     "output_type": "execute_result"
    }
   ],
   "source": [
    "ner_tagger = pipeline(\"ner\", aggregation_strategy=\"simple\")\n",
    "outputs = ner_tagger(text)\n",
    "pd.DataFrame(outputs)"
   ]
  },
  {
   "cell_type": "markdown",
   "metadata": {
    "id": "HCcnkAwIz7mn"
   },
   "source": [
    "**Question Answering**"
   ]
  },
  {
   "cell_type": "code",
   "execution_count": null,
   "metadata": {
    "colab": {
     "base_uri": "https://localhost:8080/",
     "height": 275,
     "referenced_widgets": [
      "82d3fb02745d4cc8932a1b75d1fbd531",
      "ff52cc8dbf684f8db9841768d78f61dd",
      "104e5414a471486685203c3fa3e1403d",
      "a30a94f4fd0a45748322221581e9e1e4",
      "53df50ab0dd94c1193fccced52f2e55c",
      "111324fb241b48a28f11d005eaf91afb",
      "c5fa7e87e492427692cc35e9647b6fed",
      "7b072a1160c94093998e9242defb1397",
      "a1ed737c3a60408aaeedc0f84d089cfd",
      "8ee193ade96948c79b7fc3cfff401db2",
      "ca95166d449e49d49af3bdb8df9cdada",
      "d41dd1b3789a4713bce74688c0632971",
      "337de64ee20640d7b12846685cfb09c7",
      "5f6ee82229de47118ef7ca3616897d4b",
      "14a9a1baf09c40ffba40b9fb7290e89e",
      "02c257fa48ff4f0d9cee660904b7f650",
      "40a1c4bac3bf4e56ae20cde037b4013b",
      "a1d176e008e348d99d5feb7123f89d92",
      "c642025abd0f40a39af649e0724fee6a",
      "e5bdc4aaf8974e06a095b146af9c23fe",
      "a0a7e5e18ee54d8f91ff7cc8664a2a3e",
      "3c665d7a4dff450e8fd4d1aa54d1562e",
      "1ff79e4416a042c9992bccdd23318845",
      "ac723d3b4095409d99b156c4585695e4",
      "6370a2b857be4b5a9bd5058c9a94189d",
      "cfba8b55d16b47359aa180cf6d6a2aaa",
      "8c99bfe29ed5411393e0b8556ddaa092",
      "7ae8d2226d9442abb59956c4c48e3131",
      "53f4455c1fa24b73af0112b78d92db9e",
      "a1d647de6ee14b258c4265dbf01b4ce2",
      "f2a25c10ae424815b10ea21a04040575",
      "5f754d8be4f24b5e82b9d4c4c4d1ed5e",
      "d9ace3585da2454998071c1e9175c262",
      "99fe14ee9dd94749967ba47487c1d103",
      "168b1c80edde4d4f9c7858f029250911",
      "31fa3ff287004d3f8b69fb5711bc2b3a",
      "9bf535b04df84918827e2cec66c18563",
      "45b6fd99ef77487db303abdae0b73596",
      "b2e0b2976dbf43c98f9647fd221cd302",
      "f694a8c59451466e8f1fa33584eeab12",
      "f601a79bf6d3475f93585794d842b127",
      "3ea408755f624fcba388b6d17ee685ab",
      "86348280a3454c4c8c52cd95d0e419da",
      "1155be54424c494a97113db3700cefc4",
      "336cf6b3b3bb413fb91af439419d5d28",
      "e86540af6431490385256237ee2b77df",
      "58897ebe6da84dc6b3985a8b78155049",
      "541f0bc1c8de43fb8b47f03dc6d2482a",
      "ce17e164654749fa85d61122a150f20c",
      "765ddd93ae0641e29880efe8e7d537dc",
      "2a6fd8c212f04ff788bfceeddebca644",
      "c0eda19912ef49efa9934a2e75ce1a30",
      "e6e4d2e44367441ab936c28873017dbb",
      "2aef1e02856d4ec2be2185348e7f4baf",
      "7696d5ad916e4ab69d313e5102a6e727"
     ]
    },
    "id": "ww5RdMu5z6dr",
    "outputId": "88980208-81af-4d02-bf64-ac4e9aeccb53"
   },
   "outputs": [
    {
     "name": "stderr",
     "output_type": "stream",
     "text": [
      "No model was supplied, defaulted to distilbert-base-cased-distilled-squad and revision 626af31 (https://huggingface.co/distilbert-base-cased-distilled-squad).\n",
      "Using a pipeline without specifying a model name and revision in production is not recommended.\n"
     ]
    },
    {
     "data": {
      "application/vnd.jupyter.widget-view+json": {
       "model_id": "82d3fb02745d4cc8932a1b75d1fbd531",
       "version_major": 2,
       "version_minor": 0
      },
      "text/plain": [
       "config.json:   0%|          | 0.00/473 [00:00<?, ?B/s]"
      ]
     },
     "metadata": {},
     "output_type": "display_data"
    },
    {
     "data": {
      "application/vnd.jupyter.widget-view+json": {
       "model_id": "d41dd1b3789a4713bce74688c0632971",
       "version_major": 2,
       "version_minor": 0
      },
      "text/plain": [
       "model.safetensors:   0%|          | 0.00/261M [00:00<?, ?B/s]"
      ]
     },
     "metadata": {},
     "output_type": "display_data"
    },
    {
     "data": {
      "application/vnd.jupyter.widget-view+json": {
       "model_id": "1ff79e4416a042c9992bccdd23318845",
       "version_major": 2,
       "version_minor": 0
      },
      "text/plain": [
       "tokenizer_config.json:   0%|          | 0.00/29.0 [00:00<?, ?B/s]"
      ]
     },
     "metadata": {},
     "output_type": "display_data"
    },
    {
     "data": {
      "application/vnd.jupyter.widget-view+json": {
       "model_id": "99fe14ee9dd94749967ba47487c1d103",
       "version_major": 2,
       "version_minor": 0
      },
      "text/plain": [
       "vocab.txt:   0%|          | 0.00/213k [00:00<?, ?B/s]"
      ]
     },
     "metadata": {},
     "output_type": "display_data"
    },
    {
     "data": {
      "application/vnd.jupyter.widget-view+json": {
       "model_id": "336cf6b3b3bb413fb91af439419d5d28",
       "version_major": 2,
       "version_minor": 0
      },
      "text/plain": [
       "tokenizer.json:   0%|          | 0.00/436k [00:00<?, ?B/s]"
      ]
     },
     "metadata": {},
     "output_type": "display_data"
    },
    {
     "data": {
      "text/html": [
       "\n",
       "  <div id=\"df-0b57e647-25fc-4369-852d-efc7e9498520\" class=\"colab-df-container\">\n",
       "    <div>\n",
       "<style scoped>\n",
       "    .dataframe tbody tr th:only-of-type {\n",
       "        vertical-align: middle;\n",
       "    }\n",
       "\n",
       "    .dataframe tbody tr th {\n",
       "        vertical-align: top;\n",
       "    }\n",
       "\n",
       "    .dataframe thead th {\n",
       "        text-align: right;\n",
       "    }\n",
       "</style>\n",
       "<table border=\"1\" class=\"dataframe\">\n",
       "  <thead>\n",
       "    <tr style=\"text-align: right;\">\n",
       "      <th></th>\n",
       "      <th>score</th>\n",
       "      <th>start</th>\n",
       "      <th>end</th>\n",
       "      <th>answer</th>\n",
       "    </tr>\n",
       "  </thead>\n",
       "  <tbody>\n",
       "    <tr>\n",
       "      <th>0</th>\n",
       "      <td>0.631291</td>\n",
       "      <td>335</td>\n",
       "      <td>358</td>\n",
       "      <td>an exchange of Megatron</td>\n",
       "    </tr>\n",
       "  </tbody>\n",
       "</table>\n",
       "</div>\n",
       "    <div class=\"colab-df-buttons\">\n",
       "\n",
       "  <div class=\"colab-df-container\">\n",
       "    <button class=\"colab-df-convert\" onclick=\"convertToInteractive('df-0b57e647-25fc-4369-852d-efc7e9498520')\"\n",
       "            title=\"Convert this dataframe to an interactive table.\"\n",
       "            style=\"display:none;\">\n",
       "\n",
       "  <svg xmlns=\"http://www.w3.org/2000/svg\" height=\"24px\" viewBox=\"0 -960 960 960\">\n",
       "    <path d=\"M120-120v-720h720v720H120Zm60-500h600v-160H180v160Zm220 220h160v-160H400v160Zm0 220h160v-160H400v160ZM180-400h160v-160H180v160Zm440 0h160v-160H620v160ZM180-180h160v-160H180v160Zm440 0h160v-160H620v160Z\"/>\n",
       "  </svg>\n",
       "    </button>\n",
       "\n",
       "  <style>\n",
       "    .colab-df-container {\n",
       "      display:flex;\n",
       "      gap: 12px;\n",
       "    }\n",
       "\n",
       "    .colab-df-convert {\n",
       "      background-color: #E8F0FE;\n",
       "      border: none;\n",
       "      border-radius: 50%;\n",
       "      cursor: pointer;\n",
       "      display: none;\n",
       "      fill: #1967D2;\n",
       "      height: 32px;\n",
       "      padding: 0 0 0 0;\n",
       "      width: 32px;\n",
       "    }\n",
       "\n",
       "    .colab-df-convert:hover {\n",
       "      background-color: #E2EBFA;\n",
       "      box-shadow: 0px 1px 2px rgba(60, 64, 67, 0.3), 0px 1px 3px 1px rgba(60, 64, 67, 0.15);\n",
       "      fill: #174EA6;\n",
       "    }\n",
       "\n",
       "    .colab-df-buttons div {\n",
       "      margin-bottom: 4px;\n",
       "    }\n",
       "\n",
       "    [theme=dark] .colab-df-convert {\n",
       "      background-color: #3B4455;\n",
       "      fill: #D2E3FC;\n",
       "    }\n",
       "\n",
       "    [theme=dark] .colab-df-convert:hover {\n",
       "      background-color: #434B5C;\n",
       "      box-shadow: 0px 1px 3px 1px rgba(0, 0, 0, 0.15);\n",
       "      filter: drop-shadow(0px 1px 2px rgba(0, 0, 0, 0.3));\n",
       "      fill: #FFFFFF;\n",
       "    }\n",
       "  </style>\n",
       "\n",
       "    <script>\n",
       "      const buttonEl =\n",
       "        document.querySelector('#df-0b57e647-25fc-4369-852d-efc7e9498520 button.colab-df-convert');\n",
       "      buttonEl.style.display =\n",
       "        google.colab.kernel.accessAllowed ? 'block' : 'none';\n",
       "\n",
       "      async function convertToInteractive(key) {\n",
       "        const element = document.querySelector('#df-0b57e647-25fc-4369-852d-efc7e9498520');\n",
       "        const dataTable =\n",
       "          await google.colab.kernel.invokeFunction('convertToInteractive',\n",
       "                                                    [key], {});\n",
       "        if (!dataTable) return;\n",
       "\n",
       "        const docLinkHtml = 'Like what you see? Visit the ' +\n",
       "          '<a target=\"_blank\" href=https://colab.research.google.com/notebooks/data_table.ipynb>data table notebook</a>'\n",
       "          + ' to learn more about interactive tables.';\n",
       "        element.innerHTML = '';\n",
       "        dataTable['output_type'] = 'display_data';\n",
       "        await google.colab.output.renderOutput(dataTable, element);\n",
       "        const docLink = document.createElement('div');\n",
       "        docLink.innerHTML = docLinkHtml;\n",
       "        element.appendChild(docLink);\n",
       "      }\n",
       "    </script>\n",
       "  </div>\n",
       "\n",
       "\n",
       "    </div>\n",
       "  </div>\n"
      ],
      "text/plain": [
       "      score  start  end                   answer\n",
       "0  0.631291    335  358  an exchange of Megatron"
      ]
     },
     "execution_count": 5,
     "metadata": {},
     "output_type": "execute_result"
    }
   ],
   "source": [
    "reader = pipeline(\"question-answering\")\n",
    "question = \"What does the customer want?\"\n",
    "outputs = reader(question=question, context=text)\n",
    "pd.DataFrame([outputs])"
   ]
  },
  {
   "cell_type": "markdown",
   "metadata": {
    "id": "-rzChTdf0ESd"
   },
   "source": [
    "**Summarization**"
   ]
  },
  {
   "cell_type": "code",
   "execution_count": null,
   "metadata": {
    "colab": {
     "base_uri": "https://localhost:8080/",
     "height": 301,
     "referenced_widgets": [
      "0ac99714ee1246c9a4e02b416ae3a14d",
      "66f10a05f207496da35008133547916f",
      "7e9ab89c721e43178ff814d00f89efce",
      "1e7d5c5c07bf4c2090931a4a129ddc2c",
      "373fdd0212d64cc8ba7e998f7535aeb4",
      "0858e20f32a6465ebad71dc21539be97",
      "6e952840e8cb4802951c359ded0ac3cb",
      "facda2b08f7f433fb51c9bb32994b799",
      "a458804b3a364092b19ff5c654765753",
      "17a41ee73e814d8d920f8660214c55ec",
      "00ac7af774c94f9f82cdfe7698f35b62",
      "e09dbd7172394cdf9310b03c90495da8",
      "a1568230ec694827ad05ef042c3f506f",
      "17bec9a2443b494da5071758f5a53f61",
      "c87996ac9a9e4aadbd18208e94fe9245",
      "46c465da4d7e4ef6ad42e52c0f6b14f1",
      "29e5aa97ba01455f8a44aaa57189feef",
      "b0b92478b0744344b2e0e12b5aeaeb20",
      "1abbdc55b2cb45a8bf4bb52e57a42c2f",
      "1e0aeb8d0a8b433db64963ca389e4b6a",
      "89a2fa72e86c431e9dba90facc24770f",
      "06fc1bbdbb524113903926ca9578826d",
      "e58d796d451b425aa9807fbd3841cf1c",
      "ec486b7a02a148769e760679b07e85b4",
      "3aac5e6bf89e44b091891c48b4a6ae28",
      "a91e868297b34788b73f7239a53318c1",
      "266652a027174b268d032c3583eec513",
      "afe7c3ec94cc47a3a410ea306fe0b1c2",
      "88cc9c22a42b4972aa7172986eae084a",
      "f3cb1724989e41f88343a28affd1dc0d",
      "26b3ad68c7bc449f868eae8f03f7f539",
      "de0db63c08954c33816516ed3032173e",
      "c2df4e476e0f4939a96826cd4455a735",
      "84e41b0589da42ce949f12ccd379325f",
      "086da1bf907940d4859853739bd80325",
      "05e0b9b7fec8411db132a1a703211a74",
      "56c0803d00744726978ff07b1cd80187",
      "a441fa73ee31458186ccad39d1783363",
      "c0ea7ba140904898ab329959875acbe9",
      "0246d40dadf440f5a520ee033b59ed00",
      "dd5ac57b72e943319034022c9e2ff2a1",
      "8a6c4009886e49e0ba9c7e0e5fd7de00",
      "1506859169094e2abecdda149f99756c",
      "b2cd7088707a4507996af5976b068eac",
      "9ad32bc44a8c418897c83b225e472f67",
      "e024cf987ab643b09c264014e0b4e4d8",
      "25ed086aa70c407bb2723092343f88a9",
      "70fda04cd2424473ba3134404626c682",
      "8b94d96467c94b21ad4a7c22930bfe32",
      "f74ba87866ab455dbdb264fd2e6e448d",
      "b108a2f077c94078a0d9c910eda1184b",
      "0fbe938f6e7f488fa3f1c3b24abf86b6",
      "e87278b7d46b4447bf6a2d2be6380c04",
      "ea5d3c8b00824ab38da8a867db110a31",
      "2ada4eadf6614dd0817a518419fe3c19"
     ]
    },
    "id": "EvMYfpORzeAf",
    "outputId": "14b90063-f4ea-444a-e37b-f304fa7207b1"
   },
   "outputs": [
    {
     "name": "stderr",
     "output_type": "stream",
     "text": [
      "No model was supplied, defaulted to sshleifer/distilbart-cnn-12-6 and revision a4f8f3e (https://huggingface.co/sshleifer/distilbart-cnn-12-6).\n",
      "Using a pipeline without specifying a model name and revision in production is not recommended.\n"
     ]
    },
    {
     "data": {
      "application/vnd.jupyter.widget-view+json": {
       "model_id": "0ac99714ee1246c9a4e02b416ae3a14d",
       "version_major": 2,
       "version_minor": 0
      },
      "text/plain": [
       "config.json:   0%|          | 0.00/1.80k [00:00<?, ?B/s]"
      ]
     },
     "metadata": {},
     "output_type": "display_data"
    },
    {
     "data": {
      "application/vnd.jupyter.widget-view+json": {
       "model_id": "e09dbd7172394cdf9310b03c90495da8",
       "version_major": 2,
       "version_minor": 0
      },
      "text/plain": [
       "pytorch_model.bin:   0%|          | 0.00/1.22G [00:00<?, ?B/s]"
      ]
     },
     "metadata": {},
     "output_type": "display_data"
    },
    {
     "data": {
      "application/vnd.jupyter.widget-view+json": {
       "model_id": "e58d796d451b425aa9807fbd3841cf1c",
       "version_major": 2,
       "version_minor": 0
      },
      "text/plain": [
       "tokenizer_config.json:   0%|          | 0.00/26.0 [00:00<?, ?B/s]"
      ]
     },
     "metadata": {},
     "output_type": "display_data"
    },
    {
     "data": {
      "application/vnd.jupyter.widget-view+json": {
       "model_id": "84e41b0589da42ce949f12ccd379325f",
       "version_major": 2,
       "version_minor": 0
      },
      "text/plain": [
       "vocab.json:   0%|          | 0.00/899k [00:00<?, ?B/s]"
      ]
     },
     "metadata": {},
     "output_type": "display_data"
    },
    {
     "data": {
      "application/vnd.jupyter.widget-view+json": {
       "model_id": "9ad32bc44a8c418897c83b225e472f67",
       "version_major": 2,
       "version_minor": 0
      },
      "text/plain": [
       "merges.txt:   0%|          | 0.00/456k [00:00<?, ?B/s]"
      ]
     },
     "metadata": {},
     "output_type": "display_data"
    },
    {
     "name": "stderr",
     "output_type": "stream",
     "text": [
      "Your min_length=56 must be inferior than your max_length=45.\n",
      "/usr/local/lib/python3.10/dist-packages/transformers/generation/utils.py:1298: UserWarning: Unfeasible length constraints: `min_length` (56) is larger than the maximum possible length (45). Generation will stop at the defined maximum length. You should decrease the minimum length and/or increase the maximum length.\n",
      "  warnings.warn(\n"
     ]
    },
    {
     "name": "stdout",
     "output_type": "stream",
     "text": [
      " Bumblebee ordered an Optimus Prime action figure from your online store in Germany. Unfortunately, when I opened the package, I discovered to my horror that I had been sent an action figure of Megatron instead.\n"
     ]
    }
   ],
   "source": [
    "summarizer = pipeline(\"summarization\")\n",
    "outputs = summarizer(text, max_length=45, clean_up_tokenization_spaces=True)\n",
    "print(outputs[0]['summary_text'])"
   ]
  },
  {
   "cell_type": "markdown",
   "metadata": {
    "id": "hI0OfKrk0SY4"
   },
   "source": [
    "**Translation**"
   ]
  },
  {
   "cell_type": "code",
   "execution_count": null,
   "metadata": {
    "colab": {
     "base_uri": "https://localhost:8080/",
     "height": 313,
     "referenced_widgets": [
      "6f2128fc8a474fce89b36abecfd89f57",
      "a2172ff89eb04cbd91c99ab614a6e7f8",
      "742a5dba965b4728990a74f9876f3595",
      "a4cb21ada6a347bd97b96728021cee7f",
      "74f75dcd34014a3bbdd227da57710701",
      "521ee558b0ba4df38f767191808b205a",
      "2a5ad3f15ed547309d49135975bb9006",
      "f86b606d6903422dac4ae05a7da3246c",
      "248853642424423e8459a1206799ef1e",
      "4ec4acacaadb425abc63f0ba85ea9b18",
      "a3f8bf47290b4e20adc75e7deaee8d7d",
      "8e34842cf1fc4cde9252dc2c08d719f3",
      "83fbcbb7bd5441aabd7c192499b4b3c5",
      "485a71d132914aaca1faca79a7af2252",
      "99cb184d051e438e9680415e950d5d19",
      "3bb7d8f0beff4d3bb8abaa73efc77e80",
      "c63a0d5b74a64f67991805cf6c86f2ef",
      "aa40bb5031294306b27ffb174375effb",
      "66c65adc0542499582b34d01f6fbffd3",
      "41bdac36cfe84302be964a05fe4bdedf",
      "8932e746e27040c09379992923ceda83",
      "8ad61c32eb7b412bb6af4fcf2aacd892",
      "26ab59e5624c49d6a94f52f9b19155b7",
      "e792908790144789a6f5b29f394ec7b8",
      "ef87b49af1a14f5fac35aa30c72d01ac",
      "523a5840ade34c68a3d6136fca81cd96",
      "0132a1224ea145c6ab03b4aa19495489",
      "2f24051611ae47c0b94aa509a56f5a29",
      "4ede7585045b4f92b85c0314e787275a",
      "728af1674257467a895032fe41e5077e",
      "82726a0a3e724ee1a619ad6f492e64b4",
      "bd1a7599dd354a71abbfae2781e987b7",
      "0efd339147d849339092e9a58ab56a7a",
      "914cb9672d70481b9fbb32d2fa1b4f0e",
      "6372dd7cf60b44fabd01b0fa354be7e8",
      "b25b68f6e8334eea9ce17854845c0d71",
      "6895cc7106bf46c9bf531c741f9033dd",
      "288524875f024655aa6d9bb10cd0c7be",
      "da81be3c69854f13af60857b367afc8b",
      "9a036d21519d450383f3c9b186b43de4",
      "ff871b625e8e4852a84002a29d2a8ebd",
      "8ee21c3e34624f8da5adc2ac960fdc2b",
      "30f8ee1dcc4c4f799a598bdf73828011",
      "25909c8f983e49aabd6bc4ff787e6165",
      "e85e1896ca824bfc9963d5998b4c1c8e",
      "535f9484cd2e481797c9daae30e4736a",
      "13a104129d4a4d6488c823bb1974b8d0",
      "9dead9e5f5c04576906321a76ba84344",
      "3d1ba01ede4a4a3e8d18c78de53438e6",
      "916673956fb84345b51899ed1917ea2f",
      "e3aeece37bf54ded816df6e14f5a38c2",
      "acd6c6e7f50c4780abf618c57c0355df",
      "0014e648dc3a493c95a8af3bb2f10ecc",
      "27599193a8844a24b0638de7d77621d1",
      "3e26f84f29bb475f99968c5360fffca3",
      "3b893793d59142b59f6bdfbc933439e1",
      "6d2a6de1fca641d8aa1705fbda3a8fdf",
      "10141e059e2140c7936c9bc31ef355fa",
      "12fe2b6c50604e60afd69b12617f355d",
      "683121b6c4f14d3ca49085f4b57dcd5b",
      "75e2d92bf76d4c2aa48d2248bac4d093",
      "cd9e855b5e554ec486a9fab19c78bb19",
      "21cdb4bff0cb42c0a86bad701d3ba20a",
      "e835ad143a29426e95515df6292de0b3",
      "5924aedab28d42c2a1c7e1f893c44775",
      "c51109c4a5fd43959cbf0666219c9535",
      "eb927ad2f05d40ef9b2a988f39264fe9",
      "f5571f5b60ed4bf8aa6f3906bf8c1267",
      "60e5a62b3e9b4ffc861951684049c53e",
      "876617e9a3034c59b78dec905541b58e",
      "cff8873d82e3439b9522f296fad128fd",
      "c8d02d6c59604747acae88a34a946f1a",
      "82700dc1197c4bcf9b194ed0c7d493f1",
      "8cda08d3583e48079aeb5c17cf5f94d4",
      "8220d6fa7d5b46c39bcb17dd9506e3b2",
      "0ed31b296bcb47be8e1d6080ad246acc",
      "cd30d2c6f99745ac84617c15b891e270"
     ]
    },
    "id": "lY7NLU8T0Xo0",
    "outputId": "ee8c07cf-7997-4859-b705-a2d3101f5369"
   },
   "outputs": [
    {
     "data": {
      "application/vnd.jupyter.widget-view+json": {
       "model_id": "6f2128fc8a474fce89b36abecfd89f57",
       "version_major": 2,
       "version_minor": 0
      },
      "text/plain": [
       "config.json:   0%|          | 0.00/1.33k [00:00<?, ?B/s]"
      ]
     },
     "metadata": {},
     "output_type": "display_data"
    },
    {
     "data": {
      "application/vnd.jupyter.widget-view+json": {
       "model_id": "8e34842cf1fc4cde9252dc2c08d719f3",
       "version_major": 2,
       "version_minor": 0
      },
      "text/plain": [
       "pytorch_model.bin:   0%|          | 0.00/298M [00:00<?, ?B/s]"
      ]
     },
     "metadata": {},
     "output_type": "display_data"
    },
    {
     "data": {
      "application/vnd.jupyter.widget-view+json": {
       "model_id": "26ab59e5624c49d6a94f52f9b19155b7",
       "version_major": 2,
       "version_minor": 0
      },
      "text/plain": [
       "generation_config.json:   0%|          | 0.00/293 [00:00<?, ?B/s]"
      ]
     },
     "metadata": {},
     "output_type": "display_data"
    },
    {
     "data": {
      "application/vnd.jupyter.widget-view+json": {
       "model_id": "914cb9672d70481b9fbb32d2fa1b4f0e",
       "version_major": 2,
       "version_minor": 0
      },
      "text/plain": [
       "tokenizer_config.json:   0%|          | 0.00/42.0 [00:00<?, ?B/s]"
      ]
     },
     "metadata": {},
     "output_type": "display_data"
    },
    {
     "data": {
      "application/vnd.jupyter.widget-view+json": {
       "model_id": "e85e1896ca824bfc9963d5998b4c1c8e",
       "version_major": 2,
       "version_minor": 0
      },
      "text/plain": [
       "source.spm:   0%|          | 0.00/768k [00:00<?, ?B/s]"
      ]
     },
     "metadata": {},
     "output_type": "display_data"
    },
    {
     "data": {
      "application/vnd.jupyter.widget-view+json": {
       "model_id": "3b893793d59142b59f6bdfbc933439e1",
       "version_major": 2,
       "version_minor": 0
      },
      "text/plain": [
       "target.spm:   0%|          | 0.00/797k [00:00<?, ?B/s]"
      ]
     },
     "metadata": {},
     "output_type": "display_data"
    },
    {
     "data": {
      "application/vnd.jupyter.widget-view+json": {
       "model_id": "eb927ad2f05d40ef9b2a988f39264fe9",
       "version_major": 2,
       "version_minor": 0
      },
      "text/plain": [
       "vocab.json:   0%|          | 0.00/1.27M [00:00<?, ?B/s]"
      ]
     },
     "metadata": {},
     "output_type": "display_data"
    },
    {
     "name": "stderr",
     "output_type": "stream",
     "text": [
      "/usr/local/lib/python3.10/dist-packages/transformers/models/marian/tokenization_marian.py:197: UserWarning: Recommended: pip install sacremoses.\n",
      "  warnings.warn(\"Recommended: pip install sacremoses.\")\n"
     ]
    },
    {
     "name": "stdout",
     "output_type": "stream",
     "text": [
      "Sehr geehrter Amazon, letzte Woche habe ich eine Optimus Prime Action Figur aus Ihrem Online-Shop in Deutschland bestellt. Leider, als ich das Paket öffnete, entdeckte ich zu meinem Entsetzen, dass ich stattdessen eine Action Figur von Megatron geschickt worden war! Als lebenslanger Feind der Decepticons, Ich hoffe, Sie können mein Dilemma verstehen. Um das Problem zu lösen, Ich fordere einen Austausch von Megatron für die Optimus Prime Figur habe ich bestellt. Eingeschlossen sind Kopien meiner Aufzeichnungen über diesen Kauf. Ich erwarte, von Ihnen bald zu hören. Aufrichtig, Bumblebee.\n"
     ]
    }
   ],
   "source": [
    "translator = pipeline(\"translation_en_to_de\",\n",
    "                      model=\"Helsinki-NLP/opus-mt-en-de\")\n",
    "outputs = translator(text, clean_up_tokenization_spaces=True, min_length=100)\n",
    "print(outputs[0]['translation_text'])"
   ]
  },
  {
   "cell_type": "markdown",
   "metadata": {
    "id": "1RxjJ2zQ0gP4"
   },
   "source": [
    "**Text Generation**"
   ]
  },
  {
   "cell_type": "code",
   "execution_count": null,
   "metadata": {
    "colab": {
     "base_uri": "https://localhost:8080/",
     "height": 574,
     "referenced_widgets": [
      "2bbabcc1065741dcae44a5d32fc03007",
      "dfdfb8f75d0540d4952b5c29570617f5",
      "d1b6c915f74247f4a99db1a9fe5b9d95",
      "a87e0ec8ca3c45cbba2d4a5b9ab96f0e",
      "5f2d0e8deaed4c77ac627cba7bcb3c41",
      "f0972f4e4a134bba91e32fa3c2cec1dc",
      "c146c87dccf04c01858161bc828b81a9",
      "9b381a47869c458f88b8d752c02d661e",
      "3969efe64d584b34824b2bae25722fab",
      "d2cee76ccf664c3a9bc95df99f7a3984",
      "6c2a3511f8f340ba97b84d3bc029050d",
      "1228d5b411724b118c25699bf7e57b65",
      "cad9ec9f590f4548aa0382f93b1cfc1a",
      "0bb09265706148e881dba79ad09af836",
      "313e9162313c49f1a9bd76e1599913cc",
      "80c1ed2105e84051a8eada82b381253f",
      "8860ed6c588842898421a67885314f26",
      "94bdcc7bb0c9463fb5ede56da55f3e63",
      "13e01b40ef1c4685b01f629dabc1f7ae",
      "c8eecaae84ab4558ad7d1bf6a3a84c36",
      "6d5e44def9a14209a55e55d752eee573",
      "d43b212824b049bf8f41d8eadd39a9bd",
      "b149e0f0ff7541df862d00cd102b9150",
      "d8f75f158d6a4a3a82f584a8894f5618",
      "23e78997b5bc47ef8e18edaac24f747f",
      "fb55ae505eb44a2688d2233e7bdecc5f",
      "8f4a500bbc144afaad4394fc498d9bbf",
      "14e29d0b2b784c53a68b21dc48f1fba9",
      "75541b89caab40ff861804fc54c22147",
      "df4c2781a2fe4a8ebde2aafc018c2232",
      "fabcacbc85894083a3beda9a98eb6e77",
      "5ea6d32aba744ba5aef2208f4f319dc7",
      "91355b9df2e94f30be03897a46899c4c",
      "6b0b6cadf33e4df58dfa06bb9aedf664",
      "ef32bb9c36fe43b190ba018baa356c00",
      "82d19f8bb73741e2bef83db690bf16a1",
      "54b7fd1a5e8449f380659605264b1cb7",
      "9c19518f9a2149c0b709a71fa0484466",
      "729d814764f14ffab6fd8f11760f57fe",
      "07fb71ddd1074eb49b76659692b2c067",
      "9cd6c813cf8a4d68892b523a11a0619a",
      "b47c25c54d8141d8b5da6bb84c3b0989",
      "b4d9204cb1754ab0a4064759ac4ba2b9",
      "10e31c65d6ff4eba8f0707e66ede9415",
      "99ec4b9048d6471483cb12d85aa5efd8",
      "24f02be939b14d95b442cd59c2443259",
      "ba2ce9f95ad347a7bcf51711ae565257",
      "b58b025efa7c49bba7a124de4bc3eb5f",
      "04013adba31b41a4a2eb720c4e3064d3",
      "7e06bd9094e8495593e210c97833d7e7",
      "9f3f5829195d42a29dd78caba3347728",
      "03cd9db55fe44565b6ad81bba4939b8c",
      "89ff7c90cf9040aabcd6e11fddb642b2",
      "8968aad6da37472298d8435ed075a06c",
      "209c53ee7c364ce78d6a0311d7cc3c4c",
      "0a9bfc423ad0497b91d682dc937612c0",
      "a3fff4aba11f46e1b26d49fb4c21e78b",
      "7c04b37c969544f2808ef30086a932b8",
      "89b3d46106fc4790ad3022f037f64f3b",
      "b289b632c84d4c65acfe462010924dc7",
      "50eef0a68afc41d58d77310d187b8915",
      "2ad4cedff7554da9a94dd0e1a6a78623",
      "08f1f329729745eb9f6c71208dfa5a2b",
      "7d33be90019a41a497ade41860731cf8",
      "6f87b09a167f4e2494ff419e9f4a5fd6",
      "df859835db804ea3814337c66345496d"
     ]
    },
    "id": "MQJ0oRsn0jTl",
    "outputId": "72c2e239-1c0d-4f25-f381-3b6fb2c3175f"
   },
   "outputs": [
    {
     "name": "stderr",
     "output_type": "stream",
     "text": [
      "No model was supplied, defaulted to gpt2 and revision 6c0e608 (https://huggingface.co/gpt2).\n",
      "Using a pipeline without specifying a model name and revision in production is not recommended.\n"
     ]
    },
    {
     "data": {
      "application/vnd.jupyter.widget-view+json": {
       "model_id": "2bbabcc1065741dcae44a5d32fc03007",
       "version_major": 2,
       "version_minor": 0
      },
      "text/plain": [
       "config.json:   0%|          | 0.00/665 [00:00<?, ?B/s]"
      ]
     },
     "metadata": {},
     "output_type": "display_data"
    },
    {
     "data": {
      "application/vnd.jupyter.widget-view+json": {
       "model_id": "1228d5b411724b118c25699bf7e57b65",
       "version_major": 2,
       "version_minor": 0
      },
      "text/plain": [
       "model.safetensors:   0%|          | 0.00/548M [00:00<?, ?B/s]"
      ]
     },
     "metadata": {},
     "output_type": "display_data"
    },
    {
     "data": {
      "application/vnd.jupyter.widget-view+json": {
       "model_id": "b149e0f0ff7541df862d00cd102b9150",
       "version_major": 2,
       "version_minor": 0
      },
      "text/plain": [
       "generation_config.json:   0%|          | 0.00/124 [00:00<?, ?B/s]"
      ]
     },
     "metadata": {},
     "output_type": "display_data"
    },
    {
     "data": {
      "application/vnd.jupyter.widget-view+json": {
       "model_id": "6b0b6cadf33e4df58dfa06bb9aedf664",
       "version_major": 2,
       "version_minor": 0
      },
      "text/plain": [
       "vocab.json:   0%|          | 0.00/1.04M [00:00<?, ?B/s]"
      ]
     },
     "metadata": {},
     "output_type": "display_data"
    },
    {
     "data": {
      "application/vnd.jupyter.widget-view+json": {
       "model_id": "99ec4b9048d6471483cb12d85aa5efd8",
       "version_major": 2,
       "version_minor": 0
      },
      "text/plain": [
       "merges.txt:   0%|          | 0.00/456k [00:00<?, ?B/s]"
      ]
     },
     "metadata": {},
     "output_type": "display_data"
    },
    {
     "data": {
      "application/vnd.jupyter.widget-view+json": {
       "model_id": "0a9bfc423ad0497b91d682dc937612c0",
       "version_major": 2,
       "version_minor": 0
      },
      "text/plain": [
       "tokenizer.json:   0%|          | 0.00/1.36M [00:00<?, ?B/s]"
      ]
     },
     "metadata": {},
     "output_type": "display_data"
    },
    {
     "name": "stderr",
     "output_type": "stream",
     "text": [
      "Setting `pad_token_id` to `eos_token_id`:50256 for open-end generation.\n"
     ]
    },
    {
     "name": "stdout",
     "output_type": "stream",
     "text": [
      "Dear Amazon, last week I ordered an Optimus Prime action figure\n",
      "from your online store in Germany. Unfortunately, when I opened the package,\n",
      "I discovered to my horror that I had been sent an action figure of Megatron\n",
      "instead! As a lifelong enemy of the Decepticons, I hope you can understand my\n",
      "dilemma. To resolve the issue, I demand an exchange of Megatron for the\n",
      "Optimus Prime figure I ordered. Enclosed are copies of my records concerning\n",
      "this purchase. I expect to hear from you soon. Sincerely, Bumblebee.\n",
      "\n",
      "Customer service response:\n",
      "Dear Bumblebee, I am sorry to hear that your order was mixed up. You will know\n",
      "\n",
      "when it is back in stock the original date of the invoice is 3 days ago after receiving my message from you. Thank You\n",
      "\n",
      "for a lovely package.\n",
      "\n",
      "The order process has been very simple, thank you for your understanding.\n",
      "\n",
      "Now of course\n"
     ]
    }
   ],
   "source": [
    "generator = pipeline(\"text-generation\")\n",
    "response = \"Dear Bumblebee, I am sorry to hear that your order was mixed up.\"\n",
    "prompt = text + \"\\n\\nCustomer service response:\\n\" + response\n",
    "outputs = generator(prompt, max_length=200)\n",
    "print(outputs[0]['generated_text'])"
   ]
  }
 ],
 "metadata": {
  "accelerator": "GPU",
  "colab": {
   "authorship_tag": "ABX9TyPSVPPLyo4pDkONsMV7Zzny",
   "gpuType": "A100",
   "include_colab_link": true,
   "machine_shape": "hm",
   "provenance": []
  },
  "kernelspec": {
   "display_name": "Python 3",
   "name": "python3"
  },
  "language_info": {
   "name": "python"
  }
 },
 "nbformat": 4,
 "nbformat_minor": 0
}
